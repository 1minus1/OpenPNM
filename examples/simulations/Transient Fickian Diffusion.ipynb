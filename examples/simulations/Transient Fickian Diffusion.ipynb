{
 "cells": [
  {
   "cell_type": "markdown",
   "metadata": {},
   "source": [
    "# Transient Fickian Diffusion\n",
    "The package `OpenPNM` allows for the simulation of many transport phenomena in porous media such as Stokes flow, Fickian diffusion, advection-diffusion, transport of charged species, etc. Transient and steady-state simulations are both supported. An example of a transient Fickian diffusion simulation through a `Cubic` pore network is shown here."
   ]
  },
  {
   "cell_type": "markdown",
   "metadata": {},
   "source": [
    "First, `OpenPNM` is imported."
   ]
  },
  {
   "cell_type": "code",
   "execution_count": 1,
   "metadata": {},
   "outputs": [],
   "source": [
    "import openpnm as op\n",
    "import numpy as np\n",
    "np.random.seed(10)\n",
    "%matplotlib inline"
   ]
  },
  {
   "cell_type": "markdown",
   "metadata": {},
   "source": [
    "## Define new workspace and project"
   ]
  },
  {
   "cell_type": "code",
   "execution_count": 2,
   "metadata": {},
   "outputs": [],
   "source": [
    "ws = op.Workspace()\n",
    "ws.settings[\"loglevel\"] = 40\n",
    "proj = ws.new_project()"
   ]
  },
  {
   "cell_type": "markdown",
   "metadata": {},
   "source": [
    "## Generate a pore network\n",
    "An arbitrary `Cubic` 3D pore network is generated consisting of a layer of $29\\times13$ pores with a constant pore to pore centers spacing of ${10}^{-5}{m}$."
   ]
  },
  {
   "cell_type": "code",
   "execution_count": 3,
   "metadata": {},
   "outputs": [],
   "source": [
    "net = op.network.Cubic(shape=[29, 13, 1], spacing=1e-5, project=proj)"
   ]
  },
  {
   "cell_type": "markdown",
   "metadata": {},
   "source": [
    "## Create a geometry\n",
    "Here, a geometry, corresponding to the created network, is created. The geometry contains information about the size of pores and throats in the network such as length and diameter, etc. `OpenPNM` has many prebuilt geometries that represent the microstructure of different materials such as Toray090 carbon papers, sand stone, electrospun fibers, etc. In this example, a simple geometry known as `StickAndBall` that assigns random diameter values to pores throats, with certain constraints, is used."
   ]
  },
  {
   "cell_type": "code",
   "execution_count": 4,
   "metadata": {},
   "outputs": [],
   "source": [
    "geo = op.geometry.StickAndBall(network=net, pores=net.Ps, throats=net.Ts)"
   ]
  },
  {
   "cell_type": "markdown",
   "metadata": {},
   "source": [
    "## Add a phase\n",
    "Then, a phase (water in this example) is added to the simulation and assigned to the network. The phase contains the physical properties of the fluid considered in the simulation such as the viscosity, etc. Many predefined phases as available on `OpenPNM`."
   ]
  },
  {
   "cell_type": "code",
   "execution_count": 5,
   "metadata": {},
   "outputs": [],
   "source": [
    "phase = op.phases.Water(network=net)"
   ]
  },
  {
   "cell_type": "markdown",
   "metadata": {},
   "source": [
    "## Add a physics\n",
    "Next, a physics object is defined. The physics object stores information about the different physical models used in the simulation and is assigned to specific network, geometry and phase objects. This ensures that the different physical models will only have access to information about the network, geometry and phase objects to which they are assigned. In fact, models (such as Stokes flow or Fickian diffusion) require information about the network (such as the connectivity between pores), the geometry (such as the pores and throats diameters), and the phase (such as the diffusivity coefficient)."
   ]
  },
  {
   "cell_type": "code",
   "execution_count": 6,
   "metadata": {},
   "outputs": [],
   "source": [
    "phys = op.physics.GenericPhysics(network=net, phase=phase, geometry=geo)"
   ]
  },
  {
   "cell_type": "markdown",
   "metadata": {},
   "source": [
    "The diffusivity coefficient of the considered chemical species in water is also defined."
   ]
  },
  {
   "cell_type": "code",
   "execution_count": 7,
   "metadata": {},
   "outputs": [],
   "source": [
    "phase['pore.diffusivity'] = 2e-09"
   ]
  },
  {
   "cell_type": "markdown",
   "metadata": {},
   "source": [
    "## Defining a new model\n",
    "The physical model, consisting of Fickian diffusion, is defined and attached to the physics object previously defined."
   ]
  },
  {
   "cell_type": "code",
   "execution_count": 8,
   "metadata": {},
   "outputs": [],
   "source": [
    "mod = op.models.physics.diffusive_conductance.ordinary_diffusion\n",
    "phys.add_model(propname='throat.diffusive_conductance', model=mod, regen_mode='normal')"
   ]
  },
  {
   "cell_type": "markdown",
   "metadata": {},
   "source": [
    "## Define a transient Fickian diffusion algorithm\n",
    "Here, an algorithm for the simulation of transient Fickian diffusion is defined. It is assigned to the network and phase of interest to be able to retrieve all the information needed to build systems of linear equations."
   ]
  },
  {
   "cell_type": "code",
   "execution_count": 9,
   "metadata": {},
   "outputs": [],
   "source": [
    "fd = op.algorithms.TransientFickianDiffusion(network=net, phase=phase)"
   ]
  },
  {
   "cell_type": "markdown",
   "metadata": {},
   "source": [
    "## Add boundary conditions\n",
    "Next, Dirichlet boundary conditions are added over the front and back boundaries of the network."
   ]
  },
  {
   "cell_type": "code",
   "execution_count": 10,
   "metadata": {},
   "outputs": [],
   "source": [
    "fd.set_value_BC(pores=net.pores('front'), values=0.5)\n",
    "fd.set_value_BC(pores=net.pores('back'), values=0.2)"
   ]
  },
  {
   "cell_type": "markdown",
   "metadata": {},
   "source": [
    "## Define initial conditions\n",
    "Initial conditions (optional) can also be specified. If they are not defined, a zero concentration is assumed at the beginning of the transient simulation."
   ]
  },
  {
   "cell_type": "code",
   "execution_count": 11,
   "metadata": {},
   "outputs": [],
   "source": [
    "fd.set_IC(0.2)"
   ]
  },
  {
   "cell_type": "markdown",
   "metadata": {},
   "source": [
    "Note that both `set_value_BC` and `set_IC` also accept as input, in addition to a single scalar value, an `ndarray`."
   ]
  },
  {
   "cell_type": "markdown",
   "metadata": {},
   "source": [
    "## Setup the transient algorithm settings\n",
    "The settings of the transient algorithm are updated here. This step is optional as default settings are predefined. It is, however, important to update these settings on each new simulation as the time-scale of different phenomena in different problems may strongly differ.\n",
    "Here, the time discretization scheme is set to `cranknicolson`, which is second-order accurate in time. The two other options supported in `OpenPNM` are the `implicit` scheme (only first order accurate but faster than the `cranknicolson`) and the `steady` which simply corresponds to a steady-state simulation.\n",
    "Other parameters are also set; the final time step `t_final`, the output time stepping `t_output`, the computational time step `t_step`, and the tolerance to be achieved before reaching steady-state `t_tolerance`."
   ]
  },
  {
   "cell_type": "code",
   "execution_count": 12,
   "metadata": {},
   "outputs": [],
   "source": [
    "fd.setup(t_scheme='cranknicolson', t_final=100, t_output=5, t_step=1, t_tolerance=1e-12)"
   ]
  },
  {
   "cell_type": "markdown",
   "metadata": {},
   "source": [
    "Note that the output time stepping `t_output` may a `scalar`, `ND-array`, or `list`. For a scalar, it is considered as an output interval. If `t_output` > `t_final`, no transient data is stored. If `t_output` is not a multiple of `t_step`, `t_output` will be approximated. When `t_output` is a `list` or `ND-array`, transient solutions corresponding to this list or array will be stored. Finally, initial, final and steady-state (if reached) solutions are always stored."
   ]
  },
  {
   "cell_type": "markdown",
   "metadata": {},
   "source": [
    "## Print the algorithm settings\n",
    "One can print the algorithm's settings as shown here."
   ]
  },
  {
   "cell_type": "code",
   "execution_count": 13,
   "metadata": {},
   "outputs": [
    {
     "name": "stdout",
     "output_type": "stream",
     "text": [
      "――――――――――――――――――――――――――――――――――――――――――――――――――――――――――――――――――――――――――――――\n",
      "key                                 value\n",
      "――――――――――――――――――――――――――――――――――――――――――――――――――――――――――――――――――――――――――――――\n",
      "phase                               phase_01\n",
      "conductance                         throat.diffusive_conductance\n",
      "quantity                            pore.concentration\n",
      "solver_family                       scipy\n",
      "solver_type                         spsolve\n",
      "solver_preconditioner               jacobi\n",
      "solver_tol                          1e-08\n",
      "solver_atol                         None\n",
      "solver_rtol                         None\n",
      "solver_maxiter                      5000\n",
      "iterative_props                     []\n",
      "cache_A                             True\n",
      "cache_b                             True\n",
      "gui                                 {'setup': {'phase': None, 'quantity': '', 'conductance': '', 't_initial': None, 't_final': None, 't_step': None, 't_output': None, 't_tolerance': None, 't_scheme': ''}, 'set_IC': {'values': None}, 'set_rate_BC': {'pores': None, 'values': None}, 'set_value_BC': {'pores': None, 'values': None}, 'set_source': {'pores': None, 'propname': ''}}\n",
      "prefix                              alg\n",
      "sources                             []\n",
      "max_iter                            5000\n",
      "relaxation_source                   1.0\n",
      "relaxation_quantity                 1.0\n",
      "t_initial                           0\n",
      "t_final                             100\n",
      "t_step                              1\n",
      "t_output                            5\n",
      "t_tolerance                         1e-12\n",
      "rxn_tolerance                       1e-05\n",
      "t_precision                         12\n",
      "t_scheme                            cranknicolson\n",
      "――――――――――――――――――――――――――――――――――――――――――――――――――――――――――――――――――――――――――――――\n"
     ]
    }
   ],
   "source": [
    "print(fd.settings)"
   ]
  },
  {
   "cell_type": "markdown",
   "metadata": {},
   "source": [
    "Note that the `quantity` corresponds to the quantity solved for."
   ]
  },
  {
   "cell_type": "markdown",
   "metadata": {},
   "source": [
    "## Run the algorithm\n",
    "The algorithm is run here."
   ]
  },
  {
   "cell_type": "code",
   "execution_count": 14,
   "metadata": {},
   "outputs": [],
   "source": [
    "fd.run()"
   ]
  },
  {
   "cell_type": "markdown",
   "metadata": {},
   "source": [
    "## Post process and export the results\n",
    "Once the simulation is successfully performed. The solution at every time steps is stored within the algorithm object. The algorithm's stored information is printed here."
   ]
  },
  {
   "cell_type": "code",
   "execution_count": 15,
   "metadata": {},
   "outputs": [
    {
     "name": "stdout",
     "output_type": "stream",
     "text": [
      "――――――――――――――――――――――――――――――――――――――――――――――――――――――――――――――――――――――――――――――\n",
      "openpnm.algorithms.TransientFickianDiffusion : alg_01\n",
      "――――――――――――――――――――――――――――――――――――――――――――――――――――――――――――――――――――――――――――――\n",
      "#     Properties                                    Valid Values\n",
      "――――――――――――――――――――――――――――――――――――――――――――――――――――――――――――――――――――――――――――――\n",
      "1     pore.bc_rate                                      0 / 377  \n",
      "2     pore.bc_value                                    26 / 377  \n",
      "3     pore.concentration                              377 / 377  \n",
      "4     pore.concentration@0                            377 / 377  \n",
      "5     pore.concentration@10                           377 / 377  \n",
      "6     pore.concentration@15                           377 / 377  \n",
      "7     pore.concentration@20                           377 / 377  \n",
      "8     pore.concentration@25                           377 / 377  \n",
      "9     pore.concentration@26                           377 / 377  \n",
      "10    pore.concentration@5                            377 / 377  \n",
      "――――――――――――――――――――――――――――――――――――――――――――――――――――――――――――――――――――――――――――――\n",
      "#     Labels                                        Assigned Locations\n",
      "――――――――――――――――――――――――――――――――――――――――――――――――――――――――――――――――――――――――――――――\n",
      "1     pore.all                                      377       \n",
      "2     throat.all                                    712       \n",
      "――――――――――――――――――――――――――――――――――――――――――――――――――――――――――――――――――――――――――――――\n"
     ]
    }
   ],
   "source": [
    "print(fd)"
   ]
  },
  {
   "cell_type": "markdown",
   "metadata": {},
   "source": [
    "Note that the solutions at every exported time step contain the `@` character followed by the time value. Here the solution is exported after each $5s$ in addition to the final time step which is not a multiple of $5$ in this example."
   ]
  },
  {
   "cell_type": "markdown",
   "metadata": {},
   "source": [
    "To print the solution at $t=10s$"
   ]
  },
  {
   "cell_type": "code",
   "execution_count": 16,
   "metadata": {},
   "outputs": [
    {
     "data": {
      "text/plain": [
       "array([0.5       , 0.5       , 0.5       , 0.5       , 0.5       ,\n",
       "       0.5       , 0.5       , 0.5       , 0.5       , 0.5       ,\n",
       "       0.5       , 0.5       , 0.5       , 0.48985292, 0.48722858,\n",
       "       0.49038283, 0.49194225, 0.48699281, 0.48315375, 0.48277719,\n",
       "       0.48980208, 0.48943965, 0.48915003, 0.49516412, 0.49076277,\n",
       "       0.48953182, 0.47753225, 0.47826678, 0.47857484, 0.47901303,\n",
       "       0.47179714, 0.47375193, 0.47267986, 0.4745223 , 0.47135465,\n",
       "       0.47278968, 0.47555351, 0.47391646, 0.47404566, 0.46761754,\n",
       "       0.46962405, 0.468941  , 0.46500423, 0.46188889, 0.46333818,\n",
       "       0.46328788, 0.46056144, 0.45397147, 0.4558392 , 0.45681642,\n",
       "       0.457646  , 0.45733298, 0.45787897, 0.45704519, 0.45518219,\n",
       "       0.45249691, 0.45285668, 0.45492097, 0.45504823, 0.450783  ,\n",
       "       0.44657113, 0.4453455 , 0.44398093, 0.4408812 , 0.44049293,\n",
       "       0.44084914, 0.4392783 , 0.43807441, 0.4400645 , 0.44204882,\n",
       "       0.44025126, 0.44212641, 0.44067838, 0.43802324, 0.43598963,\n",
       "       0.43120425, 0.429598  , 0.42724927, 0.4248117 , 0.42289336,\n",
       "       0.42032525, 0.42449305, 0.42657622, 0.42034702, 0.42270794,\n",
       "       0.42121659, 0.42027718, 0.41902436, 0.41600258, 0.42104425,\n",
       "       0.4197538 , 0.40834535, 0.40688802, 0.40895513, 0.41269543,\n",
       "       0.41117125, 0.40692371, 0.40592887, 0.40126673, 0.40231981,\n",
       "       0.4055354 , 0.40779451, 0.40418554, 0.40967416, 0.39175422,\n",
       "       0.38915635, 0.39579688, 0.3952631 , 0.39444201, 0.39820078,\n",
       "       0.39234286, 0.38942492, 0.39025618, 0.38889459, 0.38517979,\n",
       "       0.37571724, 0.38488604, 0.37872363, 0.37949771, 0.38142168,\n",
       "       0.37738873, 0.37594301, 0.37912819, 0.3777699 , 0.37872562,\n",
       "       0.38138486, 0.36934238, 0.36239198, 0.35906871, 0.36143227,\n",
       "       0.36171794, 0.36532787, 0.3656337 , 0.36691056, 0.36819061,\n",
       "       0.36701977, 0.36947775, 0.36665522, 0.36102355, 0.35021662,\n",
       "       0.34914716, 0.35032747, 0.3441626 , 0.34835367, 0.35070712,\n",
       "       0.35125342, 0.35232282, 0.35783229, 0.36135643, 0.35740458,\n",
       "       0.35179187, 0.34562346, 0.34336662, 0.34288697, 0.34019568,\n",
       "       0.33499859, 0.34054897, 0.33973178, 0.33701949, 0.33389987,\n",
       "       0.33747183, 0.33994355, 0.33978173, 0.33739808, 0.33582633,\n",
       "       0.33492362, 0.33427161, 0.33063673, 0.32874829, 0.33268343,\n",
       "       0.33027214, 0.32395934, 0.32306999, 0.32243907, 0.32031055,\n",
       "       0.32373329, 0.32649335, 0.3266017 , 0.32514717, 0.32573899,\n",
       "       0.3232186 , 0.32282645, 0.31907195, 0.31753567, 0.3162853 ,\n",
       "       0.31602213, 0.31534958, 0.3108098 , 0.30894694, 0.31336864,\n",
       "       0.31352434, 0.31516875, 0.31398658, 0.31279698, 0.31338363,\n",
       "       0.30464785, 0.30432562, 0.30845322, 0.30422623, 0.30125225,\n",
       "       0.29909513, 0.29621288, 0.30029879, 0.30224141, 0.30482273,\n",
       "       0.30096264, 0.30283659, 0.3038874 , 0.2961566 , 0.29793485,\n",
       "       0.2967975 , 0.29036627, 0.28960862, 0.29169654, 0.28973744,\n",
       "       0.28953702, 0.28761688, 0.28684452, 0.28442701, 0.28539824,\n",
       "       0.28693858, 0.29074103, 0.29137221, 0.2867951 , 0.284822  ,\n",
       "       0.28263991, 0.28108812, 0.2837333 , 0.27788641, 0.27111012,\n",
       "       0.27046607, 0.26967496, 0.26771309, 0.26938141, 0.28599277,\n",
       "       0.27942828, 0.27518954, 0.2741868 , 0.27217676, 0.26879756,\n",
       "       0.2710958 , 0.26744926, 0.26707019, 0.26529279, 0.26347808,\n",
       "       0.26283288, 0.26309336, 0.27055176, 0.26777023, 0.26597   ,\n",
       "       0.26386702, 0.26442555, 0.26501558, 0.26317856, 0.2595026 ,\n",
       "       0.25917415, 0.25740904, 0.25593846, 0.25817624, 0.25808648,\n",
       "       0.25714136, 0.25872771, 0.25719274, 0.25741234, 0.25733008,\n",
       "       0.25597663, 0.25579469, 0.2543274 , 0.25266043, 0.25088196,\n",
       "       0.25126189, 0.2537826 , 0.25481171, 0.24648097, 0.2491814 ,\n",
       "       0.25060839, 0.25310363, 0.25047874, 0.24512817, 0.24726943,\n",
       "       0.24877646, 0.24756588, 0.24713276, 0.2478754 , 0.24863017,\n",
       "       0.25074132, 0.23655796, 0.23877278, 0.24173412, 0.24041203,\n",
       "       0.23971673, 0.23939699, 0.24037313, 0.24332533, 0.24204959,\n",
       "       0.24300633, 0.24289719, 0.24272164, 0.24166837, 0.23028901,\n",
       "       0.23023175, 0.22955832, 0.22732073, 0.22955853, 0.23458116,\n",
       "       0.23399566, 0.23547713, 0.23505005, 0.23737733, 0.23750494,\n",
       "       0.23337283, 0.23254326, 0.22386137, 0.22298945, 0.22147944,\n",
       "       0.22358331, 0.2238922 , 0.22517611, 0.22616211, 0.2257753 ,\n",
       "       0.22575404, 0.22668015, 0.22497952, 0.22102068, 0.22290552,\n",
       "       0.21738282, 0.21611242, 0.21796522, 0.21817382, 0.21755556,\n",
       "       0.2155918 , 0.21691181, 0.21646133, 0.2199277 , 0.21836851,\n",
       "       0.21565175, 0.21497437, 0.21368045, 0.21166109, 0.212346  ,\n",
       "       0.21203682, 0.21276864, 0.21296688, 0.21245122, 0.20979052,\n",
       "       0.20945066, 0.21170894, 0.21232324, 0.21183688, 0.20939662,\n",
       "       0.20768095, 0.20890144, 0.20686622, 0.20492545, 0.20621942,\n",
       "       0.20633635, 0.20611408, 0.20534546, 0.20493612, 0.20494543,\n",
       "       0.20546394, 0.20565956, 0.20486062, 0.20396329, 0.2       ,\n",
       "       0.2       , 0.2       , 0.2       , 0.2       , 0.2       ,\n",
       "       0.2       , 0.2       , 0.2       , 0.2       , 0.2       ,\n",
       "       0.2       , 0.2       ])"
      ]
     },
     "execution_count": 16,
     "metadata": {},
     "output_type": "execute_result"
    }
   ],
   "source": [
    "fd['pore.concentration@10']"
   ]
  },
  {
   "cell_type": "markdown",
   "metadata": {},
   "source": [
    "The solution is here stored in the phase before export."
   ]
  },
  {
   "cell_type": "code",
   "execution_count": 17,
   "metadata": {},
   "outputs": [],
   "source": [
    "phase.update(fd.results())"
   ]
  },
  {
   "cell_type": "markdown",
   "metadata": {},
   "source": [
    "Export the results into an `xdmf` file to be able to play an animation of the time dependent concentration on `Paraview`."
   ]
  },
  {
   "cell_type": "code",
   "execution_count": 18,
   "metadata": {},
   "outputs": [],
   "source": [
    "proj.export_data(phases=[phase], filename='./results/out', filetype='xdmf')"
   ]
  },
  {
   "cell_type": "markdown",
   "metadata": {},
   "source": [
    "## Visialization using Matplotlib\n",
    "One can perform post processing and visualization using the exported files on an external software such as `Paraview`. Additionally, the `Pyhton` library `Matplotlib` can be used as shown here to plot the concentration color map at steady-state."
   ]
  },
  {
   "cell_type": "code",
   "execution_count": 19,
   "metadata": {},
   "outputs": [
    {
     "data": {
      "image/png": "[encoded data removed]",
      "text/plain": [
       "<Figure size 432x432 with 2 Axes>"
      ]
     },
     "metadata": {
      "needs_background": "light"
     },
     "output_type": "display_data"
    }
   ],
   "source": [
    "#NBVAL_IGNORE_OUTPUT\n",
    "import matplotlib.pyplot as plt\n",
    "c = fd['pore.concentration'].reshape((net._shape))\n",
    "fig, ax = plt.subplots(figsize=(6, 6))\n",
    "plt.imshow(c[:,:,0])\n",
    "plt.title('Concentration (mol/m$^3$)')\n",
    "plt.colorbar();"
   ]
  }
 ],
 "metadata": {
  "@webio": {
   "lastCommId": null,
   "lastKernelId": null
  },
  "kernelspec": {
   "display_name": "Python 3",
   "language": "python",
   "name": "python3"
  },
  "language_info": {
   "codemirror_mode": {
    "name": "ipython",
    "version": 3
   },
   "file_extension": ".py",
   "mimetype": "text/x-python",
   "name": "python",
   "nbconvert_exporter": "python",
   "pygments_lexer": "ipython3",
   "version": "3.8.1"
  }
 },
 "nbformat": 4,
 "nbformat_minor": 2
}
