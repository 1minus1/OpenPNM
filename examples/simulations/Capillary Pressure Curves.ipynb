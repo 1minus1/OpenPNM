{
 "cells": [
  {
   "cell_type": "markdown",
   "metadata": {},
   "source": [
    "# Simulating capillary pressure curves using Porosimetry"
   ]
  },
  {
   "cell_type": "markdown",
   "metadata": {},
   "source": [
    "Start by importing OpenPNM and checking the version to be sure you're using the same version as this example."
   ]
  },
  {
   "cell_type": "code",
   "execution_count": 1,
   "metadata": {},
   "outputs": [
    {
     "name": "stdout",
     "output_type": "stream",
     "text": [
      "2.1.0b1\n"
     ]
    }
   ],
   "source": [
    "import openpnm as op\n",
    "print(op.__version__)"
   ]
  },
  {
   "cell_type": "markdown",
   "metadata": {},
   "source": [
    "Next, create a simple cubic network with 20 pores per side and a spacing of 50 um"
   ]
  },
  {
   "cell_type": "code",
   "execution_count": 2,
   "metadata": {},
   "outputs": [],
   "source": [
    "pn = op.network.Cubic(shape=[20, 20, 20], spacing=0.00005)"
   ]
  },
  {
   "cell_type": "markdown",
   "metadata": {},
   "source": [
    "The network object only contains topological and spatial information.  We need to assign some pore and throat sizes, which can be conveniently done by creating a ``StickAndBall`` geometry object."
   ]
  },
  {
   "cell_type": "code",
   "execution_count": 3,
   "metadata": {},
   "outputs": [],
   "source": [
    "geo = op.geometry.StickAndBall(network=pn, pores=pn.Ps, throats=pn.Ts)"
   ]
  },
  {
   "cell_type": "markdown",
   "metadata": {},
   "source": [
    "The ``StickAndBall`` class assigns pores as random values between 0.2 and 0.7 of the lattice spacing, then finds all other geometric information assuming the pores are spheres and the throats are cylinders."
   ]
  },
  {
   "cell_type": "markdown",
   "metadata": {},
   "source": [
    "Next we need to create a phase object which contains the thermo-physical properties of the invading fluid, such as surface tension:"
   ]
  },
  {
   "cell_type": "code",
   "execution_count": 4,
   "metadata": {},
   "outputs": [],
   "source": [
    "hg = op.phases.Mercury(network=pn, name='mercury')"
   ]
  },
  {
   "cell_type": "markdown",
   "metadata": {},
   "source": [
    "Lastly, we need to compute the capillary entry pressure of the throats in the network.  The OpenPNM ``models`` library has a few common capillary pressure models, including the Washburn equation:\n",
    "\n",
    "$$ P_C = \\frac{-2\\sigma cos(\\theta)}{R_T} $$\n",
    "\n",
    "To use this model we should create a physics object, and use the ``add_model`` method as follows:"
   ]
  },
  {
   "cell_type": "code",
   "execution_count": 5,
   "metadata": {},
   "outputs": [],
   "source": [
    "phys = op.physics.GenericPhysics(network=pn, phase=hg, geometry=geo)\n",
    "phys.add_model(propname='throat.entry_pressure',\n",
    "               model=op.models.physics.capillary_pressure.washburn)"
   ]
  },
  {
   "cell_type": "markdown",
   "metadata": {},
   "source": [
    "Note that we can inspect our ``project`` to see the interrelationships between all the object with:"
   ]
  },
  {
   "cell_type": "code",
   "execution_count": 15,
   "metadata": {},
   "outputs": [
    {
     "name": "stdout",
     "output_type": "stream",
     "text": [
      "┌Project: sim_01───────────┐\n",
      "│   net_01   │   mercury   │\n",
      "├────────────┼─────────────┤\n",
      "│   geo_01   │   phys_01   │\n",
      "└────────────┴─────────────┘\n"
     ]
    }
   ],
   "source": [
    "print(pn.project.grid)"
   ]
  },
  {
   "cell_type": "markdown",
   "metadata": {},
   "source": [
    "The ``grid`` shows us that 'phys_01' is associated with the 'mercury' phase, and 'geo_01'.  This means that when calculating the throat entry pressure using the Washburn equation above, it will fetch the throat radius ($R_T$) from 'geo_01' and the surface tension and contact angle from 'mercury'."
   ]
  },
  {
   "cell_type": "markdown",
   "metadata": {},
   "source": [
    "Now that all the required objects are setup, we can perform the capillary pressure curve simulation.  OpenPNM contains both InvasionPercolation and OrdinaryPercolation classes.  The porosimetry experiment is ordinary percolation with access limitations.  This means that a fixed pressure is applied to the invading fluid and all pores and throat that can be penetrated at that pressure are set as *possibly* invaded, *then* pores and throats are set to invaded only if they are physically connected to the source of invading fluid directly or though a path of already invading pores and throats.  Since this process is simulated very frequently, OpenPNM includes a class called Porosimetry that is a subclass of OrdinaryPercolation, with several useful methods added.  It's use is illustrated below:"
   ]
  },
  {
   "cell_type": "code",
   "execution_count": 7,
   "metadata": {},
   "outputs": [
    {
     "name": "stderr",
     "output_type": "stream",
     "text": [
      "―――――――――――――――――――――――――――――――――――――――――――――――――――――――――――――――――――――――\n",
      "    WARNING: Some inlet pores have non-zero volume, will result in non-zero initial saturation \n",
      "    SOURCE: openpnm.algorithms.OrdinaryPercolation.set_inlets \n",
      "    TIME STAMP: 2019-05-20 19:06:21,616    \n"
     ]
    }
   ],
   "source": [
    "mip = op.algorithms.Porosimetry(network=pn, phase=hg)\n",
    "mip.set_inlets(pores=pn.pores('left'))\n",
    "mip.run()"
   ]
  },
  {
   "cell_type": "markdown",
   "metadata": {},
   "source": [
    "The meaning of this warning message will be analyzed below, but first let's take a quick look at the result using the built-in plotting method:"
   ]
  },
  {
   "cell_type": "code",
   "execution_count": 8,
   "metadata": {},
   "outputs": [
    {
     "data": {
      "image/png": "[encoded data removed]",
      "text/plain": [
       "<Figure size 432x288 with 1 Axes>"
      ]
     },
     "metadata": {
      "needs_background": "light"
     },
     "output_type": "display_data"
    }
   ],
   "source": [
    "fig = mip.plot_intrusion_curve()"
   ]
  },
  {
   "cell_type": "code",
   "execution_count": 10,
   "metadata": {},
   "outputs": [
    {
     "name": "stdout",
     "output_type": "stream",
     "text": [
      "[ 42039.5370338   46921.01079544  52369.30302768  58450.23057071\n",
      "  65237.25267002  72812.35838384  81267.05703308  90703.48365867\n",
      " 101235.63284037 112990.73578208 126110.79729907 140754.31127452\n",
      " 157098.17530835 175339.82768796 195699.63249605 218423.54166816\n",
      " 243786.06615842 272093.59210598 303688.08206218 338951.20599049\n",
      " 378308.95194262 422236.77210913 471265.3264102  525986.89301061\n",
      " 587062.52319981] [0.0, 0.0, 0.0, 0.0, 0.0, 0.0, 0.0, 0.00265051992280824, 0.03312853854898287, 0.36015439678360167, 0.5915288631133898, 0.7136953940077891, 0.796908304451615, 0.8585675116500369, 0.9046614540170292, 0.9406279828493771, 0.9681431232094513, 0.9890125759781476, 1.0, 1.0, 1.0, 1.0, 1.0, 1.0, 1.0]\n"
     ]
    }
   ],
   "source": [
    "Pc, Snwp = mip.get_intrusion_data()\n",
    "print(Pc, Snwp)"
   ]
  },
  {
   "cell_type": "markdown",
   "metadata": {},
   "source": [
    "With the above data in the form of arrays it's possible to cut&paste into Excel, or to use a Python plotting package such as Matplotlib to make plots with your desired style:"
   ]
  },
  {
   "cell_type": "code",
   "execution_count": 13,
   "metadata": {},
   "outputs": [
    {
     "data": {
      "image/png": "[encoded data removed]",
      "text/plain": [
       "<Figure size 432x288 with 1 Axes>"
      ]
     },
     "metadata": {
      "needs_background": "light"
     },
     "output_type": "display_data"
    }
   ],
   "source": [
    "import matplotlib.pyplot as plt\n",
    "fig = plt.plot(Pc, Snwp, 'r*-')"
   ]
  }
 ],
 "metadata": {
  "kernelspec": {
   "display_name": "Python 3",
   "language": "python",
   "name": "python3"
  },
  "language_info": {
   "codemirror_mode": {
    "name": "ipython",
    "version": 3
   },
   "file_extension": ".py",
   "mimetype": "text/x-python",
   "name": "python",
   "nbconvert_exporter": "python",
   "pygments_lexer": "ipython3",
   "version": "3.7.2"
  }
 },
 "nbformat": 4,
 "nbformat_minor": 2
}
