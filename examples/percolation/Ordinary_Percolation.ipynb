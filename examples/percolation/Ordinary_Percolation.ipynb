{
 "cells": [
  {
   "cell_type": "markdown",
   "metadata": {},
   "source": [
    "# Ordinary Percolation"
   ]
  },
  {
   "cell_type": "code",
   "execution_count": 1,
   "metadata": {},
   "outputs": [],
   "source": [
    "import openpnm as op\n",
    "import matplotlib.pyplot as plt\n",
    "import numpy as np\n",
    "from ipywidgets import interact, IntSlider\n",
    "%matplotlib inline"
   ]
  },
  {
   "cell_type": "code",
   "execution_count": 2,
   "metadata": {},
   "outputs": [],
   "source": [
    "N = 100\n",
    "net = op.network.Cubic(shape=[N, N, 1], spacing=2.5e-5)\n",
    "geom = op.geometry.StickAndBall(network=net, pores=net.Ps, throats=net.Ts)\n",
    "water = op.phases.Water(network=net)\n",
    "phys = op.physics.Standard(network=net, phase=water, geometry=geom)"
   ]
  },
  {
   "cell_type": "code",
   "execution_count": 3,
   "metadata": {},
   "outputs": [
    {
     "data": {
      "image/png": "[encoded data removed]",
      "text/plain": [
       "<Figure size 432x288 with 1 Axes>"
      ]
     },
     "metadata": {
      "needs_background": "light"
     },
     "output_type": "display_data"
    }
   ],
   "source": [
    "alg = op.algorithms.OrdinaryPercolation(network=net)\n",
    "alg.setup(phase=water, pore_volume='pore.volume', throat_volume='throat.volume')\n",
    "alg.set_inlets(pores=net.pores('left'))\n",
    "alg.set_outlets(pores=net.pores('right'))\n",
    "alg.run(points=1000)\n",
    "alg.plot_intrusion_curve()\n",
    "plt.show()"
   ]
  },
  {
   "cell_type": "code",
   "execution_count": 4,
   "metadata": {},
   "outputs": [],
   "source": [
    "data = alg.get_intrusion_data()\n",
    "mask = np.logical_and(np.asarray(data.Snwp) > 0.0 , np.asarray(data.Snwp) < 1.0)\n",
    "mask = np.argwhere(mask).flatten()\n",
    "pressures = np.asarray(data.Pcap)[mask]"
   ]
  },
  {
   "cell_type": "code",
   "execution_count": 5,
   "metadata": {},
   "outputs": [],
   "source": [
    "def plot_saturation(step):\n",
    "    arg = mask[step]\n",
    "    Pc = np.ceil(data.Pcap[arg])\n",
    "    sat = np.around(data.Snwp[arg], 3)\n",
    "    is_perc = alg.is_percolating(Pc)\n",
    "    pmask = alg['pore.invasion_pressure'] <= Pc\n",
    "    im = pmask.reshape([N, N])\n",
    "    fig, ax = plt.subplots(figsize=[10, 10])\n",
    "    ax.imshow(im, cmap='Blues')\n",
    "    title = ('Capillary Pressure: '+str(Pc)+' Saturation: '+str(sat)+\n",
    "             ' Percolating : '+str(is_perc))\n",
    "    plt.title(title)\n",
    "    plt.show()"
   ]
  },
  {
   "cell_type": "code",
   "execution_count": 7,
   "metadata": {},
   "outputs": [
    {
     "data": {
      "application/vnd.jupyter.widget-view+json": {
       "model_id": "4cce839a24f1488e963f5c655b54f676",
       "version_major": 2,
       "version_minor": 0
      },
      "text/plain": [
       "interactive(children=(IntSlider(value=178, description='step', max=448), Output()), _dom_classes=('widget-inte…"
      ]
     },
     "metadata": {},
     "output_type": "display_data"
    },
    {
     "data": {
      "text/plain": [
       "<function __main__.plot_saturation(step)>"
      ]
     },
     "execution_count": 7,
     "metadata": {},
     "output_type": "execute_result"
    }
   ],
   "source": [
    "perc_thresh = alg.get_percolation_threshold()\n",
    "thresh_step = np.argwhere(np.asarray(pressures) == perc_thresh)\n",
    "interact(plot_saturation, step=IntSlider(min=0, max=len(mask)-1, step=1, value=thresh_step))"
   ]
  }
 ],
 "metadata": {
  "kernelspec": {
   "display_name": "Python 3",
   "language": "python",
   "name": "python3"
  },
  "language_info": {
   "codemirror_mode": {
    "name": "ipython",
    "version": 3
   },
   "file_extension": ".py",
   "mimetype": "text/x-python",
   "name": "python",
   "nbconvert_exporter": "python",
   "pygments_lexer": "ipython3",
   "version": "3.7.3"
  }
 },
 "nbformat": 4,
 "nbformat_minor": 2
}
