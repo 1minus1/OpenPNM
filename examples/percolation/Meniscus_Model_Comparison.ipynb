{
 "cells": [
  {
   "cell_type": "markdown",
   "metadata": {},
   "source": [
    "# A comparison of toroidal meniscus models with different profile shapes\n",
    "\n",
    "## Introduction\n",
    "\n",
    "In the study [Capillary Hysteresis in Neutrally Wettable Fibrous Media: A Pore Network Study of a Fuel Cell Electrode](http://link.springer.com/10.1007/s11242-017-0973-2) percolation in fibrous media was simulated using a meniscus model that assumed the contrictions between fibers are similar to a toroid:"
   ]
  },
  {
   "cell_type": "markdown",
   "metadata": {},
   "source": [
    "![](https://media.giphy.com/media/AIbz7mpqxgc5a/giphy.gif)"
   ]
  },
  {
   "cell_type": "markdown",
   "metadata": {},
   "source": [
    "This model was first proposed by Purcell and treats the inner solid profile as a circle. As the fluid invades through the center of the torus the meniscus is pinned to the surface and the \"effective\" contact angle becomes influenced by the converging diverging geometry and is a function of the filling angle $\\alpha$. The shape of the meniscus as the invading phase moves upwards through the torus with key model parameters is shown below."
   ]
  },
  {
   "cell_type": "markdown",
   "metadata": {},
   "source": [
    "![](https://i.imgur.com/b2der2w.png)"
   ]
  },
  {
   "cell_type": "markdown",
   "metadata": {},
   "source": [
    "Different intrinsic contact angles through invading phase are shown above: (a) 60$^\\circ$, (b) 90$^\\circ$ and (c) 120$^\\circ$. All scenarios clearly show an inflection of the meniscus curvature signifying a switch in the sign of the capillary pressure from negative to positive. This inflection is predicted to occur for all contact angles by the model with varying filling angle. The capillary pressure can be shown to be:"
   ]
  },
  {
   "cell_type": "markdown",
   "metadata": {},
   "source": [
    "$P_C = -2\\sigma cos(\\theta-\\alpha))/(r+R(1-cos(\\alpha))$"
   ]
  },
  {
   "cell_type": "markdown",
   "metadata": {},
   "source": [
    "A consequence of the circular solid profile is that all fluid behaves as non-wetting fluid because $\\alpha$ can range from -90$^\\circ$ to 90$^\\circ$ degrees and so even if $\\theta$ is 0 then the meniscus is still pinned at zero capillary pressure at the very furthest part of the throat where the $\\alpha$ is 90$^\\circ$"
   ]
  },
  {
   "cell_type": "markdown",
   "metadata": {},
   "source": [
    "Considering other shapes of solid profile this situation can be avoided. It will be shown by reformulating the Purcell model in a more general way that allows for a flexible defintion of the solid profile that filling angle can be limited to values below 90 and allow for spontaneous imbibition (percolation threshold below zero) of highly wetting fluids."
   ]
  },
  {
   "cell_type": "markdown",
   "metadata": {},
   "source": [
    "## Set up\n",
    "We will set up a trivially small network with one throat to demonstrate the use of the meniscus model. Here we do the imports and define a few functions for plotting."
   ]
  },
  {
   "cell_type": "code",
   "execution_count": 1,
   "metadata": {},
   "outputs": [],
   "source": [
    "#from sympy import init_session, init_printing\n",
    "#init_session(quiet=True)\n",
    "#init_printing()\n",
    "import matplotlib\n",
    "%matplotlib inline\n",
    "import matplotlib.pyplot as plt\n",
    "import numpy as np\n",
    "import sympy as syp\n",
    "from sympy import lambdify, symbols\n",
    "from sympy import atan as sym_atan\n",
    "from sympy import cos as sym_cos\n",
    "from sympy import sin as sym_sin\n",
    "from sympy import sqrt as sym_sqrt\n",
    "from sympy import pi as sym_pi\n",
    "from ipywidgets import interact, fixed\n",
    "from IPython.display import display\n",
    "\n",
    "matplotlib.rcParams['figure.figsize'] = (5, 5)"
   ]
  },
  {
   "cell_type": "code",
   "execution_count": 2,
   "metadata": {},
   "outputs": [],
   "source": [
    "theta = 30\n",
    "fiberRad = 5e-5\n",
    "throatRad = 5e-5\n",
    "max_bulge = 6e-5"
   ]
  },
  {
   "cell_type": "markdown",
   "metadata": {},
   "source": [
    "Now we define our two pore network and add the meniscus model in several modes: 'max' returns the maximum pressure experienced by the meniscus as it transitions through the throat, i.e. the burst entry pressure. 'touch' is the pressure at which the meniscus has protruded past the throat center a distance defined by the 'touch_length' dictionary key. In network simulations this could be set to the pore_diameter. Finally the 'men' mode accepts a target_Pc parameter and returns all the mensicus information required for assessing cooperative filling or plotting."
   ]
  },
  {
   "cell_type": "code",
   "execution_count": 3,
   "metadata": {},
   "outputs": [],
   "source": [
    "import openpnm as op\n",
    "import openpnm.models.physics as pm\n",
    "net = op.network.Cubic(shape=[2, 1, 1], spacing=5e-5)\n",
    "geo = op.geometry.StickAndBall(network=net,\n",
    "                               pores=net.pores(),\n",
    "                               throats=net.throats())\n",
    "phase = op.phases.Water(network=net)\n",
    "phase['pore.contact_angle'] = theta\n",
    "phys = op.physics.Standard(network=net,\n",
    "                           phase=phase,\n",
    "                           geometry=geo)\n",
    "geo['throat.diameter'] = throatRad*2\n",
    "geo['throat.touch_length'] = max_bulge"
   ]
  },
  {
   "cell_type": "markdown",
   "metadata": {},
   "source": [
    "We define a plotting function that uses the meniscus data:\n",
    "$\\alpha$ is filling angle as defined above,\n",
    "$radius$ is the radius of curvature of the mensicus,\n",
    "$center$ is the position of the centre of curvature relative to the throat center along the axis of the throat,\n",
    "$\\gamma$ is the angle between the throat axis and the line joining the meniscus center and meniscus contact point."
   ]
  },
  {
   "cell_type": "code",
   "execution_count": 4,
   "metadata": {},
   "outputs": [],
   "source": [
    "def plot_meniscus(target_Pc, meniscus_model=None):\n",
    "    phys.add_model(propname='throat.meniscus',\n",
    "                   model=meniscus_model,\n",
    "                   mode='men',\n",
    "                   r_toroid=fiberRad,\n",
    "                   target_Pc=target_Pc)\n",
    "    throatRad = geo['throat.diameter'][0]/2\n",
    "    theta = np.deg2rad(phys['pore.contact_angle'][0])\n",
    "    x_points = np.arange(-0.99, 0.99, 0.01)*fiberRad\n",
    "    fig, ax = plt.subplots()\n",
    "    if meniscus_model.__name__ == 'purcell':\n",
    "        # Parameters for plotting fibers\n",
    "        x, R, rt, s, t = syp.symbols('x, R, rt, s, t')\n",
    "        y = R*syp.sqrt(1- (x/R)**2)\n",
    "        r = rt + (R-y)\n",
    "        rx = syp.lambdify((x, R, rt), r, 'numpy')\n",
    "        ax.plot(x_points, rx(x_points, fiberRad, throatRad), 'k-')\n",
    "        ax.plot(x_points, -rx(x_points, fiberRad, throatRad), 'k-')\n",
    "    elif meniscus_model.__name__ == 'sinusoidal':\n",
    "        throat_a = throat_b = fiberRad\n",
    "        x, a, b, rt, sigma, theta = syp.symbols('x, a, b, rt, sigma, theta')\n",
    "        y = (sym_cos(np.pi*x/(2*a)))*b\n",
    "        r = rt + (b-y)\n",
    "        rx = lambdify((x, a, b, rt), r, 'numpy')\n",
    "        ax.plot(x_points, rx(x_points, throat_a, throat_b, throatRad), 'k-')\n",
    "        ax.plot(x_points, -rx(x_points, throat_a, throat_b, throatRad), 'k-')\n",
    "    else:\n",
    "        # General Ellipse\n",
    "        x, a, b, rt, sigma, theta = syp.symbols('x, a, b, rt, sigma, theta')\n",
    "        y = sym_sqrt(1 - (x/a)**2)*b\n",
    "        r = rt + (b-y)\n",
    "        rx = lambdify((x, a, b, rt), r, 'numpy')\n",
    "        ax.plot(x_points, rx(x_points, phys['throat.scale_a'], phys['throat.scale_b'], throatRad), 'k-')\n",
    "        ax.plot(x_points, -rx(x_points, t_a, t_b, throatRad), 'k-')\n",
    "    men_data = {}\n",
    "    men_data['alpha'] = phys['throat.meniscus.alpha']\n",
    "    men_data['gamma'] = phys['throat.meniscus.gamma']\n",
    "    men_data['radius'] = phys['throat.meniscus.radius']\n",
    "    men_data['center'] = phys['throat.meniscus.center']\n",
    "    arc_cen = men_data['center']\n",
    "    arc_rad = men_data['radius']\n",
    "    arc_angle = men_data['gamma']\n",
    "    angles = np.linspace(-arc_angle, arc_angle, 100)\n",
    "    arcx = arc_cen + arc_rad*np.cos(angles)\n",
    "    arcy = arc_rad*np.sin(angles)\n",
    "    ax.plot(arcx, arcy, 'b-')\n",
    "    ax.axis('equal')\n",
    "    ax.ticklabel_format(style='sci', axis='both', scilimits=(-6,-6))\n",
    "    return ax"
   ]
  },
  {
   "cell_type": "markdown",
   "metadata": {},
   "source": [
    "# Circular (Purcell)"
   ]
  },
  {
   "cell_type": "code",
   "execution_count": 5,
   "metadata": {},
   "outputs": [
    {
     "name": "stdout",
     "output_type": "stream",
     "text": [
      "Pressure at maximum bulge 439.0\n",
      "Circular profile critical entry pressure 661.0\n"
     ]
    }
   ],
   "source": [
    "circular_model = pm.meniscus.purcell\n",
    "\n",
    "phys.add_model(propname='throat.max',\n",
    "               model=circular_model,\n",
    "               mode='max',\n",
    "               r_toroid=fiberRad)\n",
    "phys.add_model(propname='throat.touch',\n",
    "               model=circular_model,\n",
    "               mode='touch',\n",
    "               r_toroid=fiberRad)\n",
    "phys.add_model(propname='throat.meniscus',\n",
    "               model=circular_model,\n",
    "               mode='men',\n",
    "               r_toroid=fiberRad,\n",
    "               target_Pc=1000)\n",
    "touch_Pc = phys['throat.touch'][0]\n",
    "print('Pressure at maximum bulge', np.around(touch_Pc, 0))\n",
    "max_Pc_circle = phys['throat.max'][0]\n",
    "print('Circular profile critical entry pressure', np.around(max_Pc_circle, 0))"
   ]
  },
  {
   "cell_type": "markdown",
   "metadata": {},
   "source": [
    "We can see that the touch_Pc calculated earlier, corresponds with the tip of the meniscus exceeding the max_bulge parameter. Try changing this and re-running to see what happens."
   ]
  },
  {
   "cell_type": "code",
   "execution_count": 6,
   "metadata": {},
   "outputs": [
    {
     "data": {
      "text/plain": [
       "[<matplotlib.lines.Line2D at 0x14eb64b7dd8>]"
      ]
     },
     "execution_count": 6,
     "metadata": {},
     "output_type": "execute_result"
    },
    {
     "data": {
      "image/png": "[encoded data removed]",
      "text/plain": [
       "<Figure size 432x288 with 1 Axes>"
      ]
     },
     "metadata": {
      "needs_background": "light"
     },
     "output_type": "display_data"
    }
   ],
   "source": [
    "ax = plot_meniscus(target_Pc=touch_Pc, meniscus_model=circular_model)\n",
    "ax.plot([max_bulge, max_bulge], [-throatRad, throatRad], 'r--')"
   ]
  },
  {
   "cell_type": "markdown",
   "metadata": {},
   "source": [
    "We can interact with the mensicus model by changing the target_Pc parameter."
   ]
  },
  {
   "cell_type": "code",
   "execution_count": 7,
   "metadata": {},
   "outputs": [
    {
     "data": {
      "application/vnd.jupyter.widget-view+json": {
       "model_id": "ef4f297b07e4410a831a0dc83fa50efb",
       "version_major": 2,
       "version_minor": 0
      },
      "text/plain": [
       "interactive(children=(FloatSlider(value=-670.0, description='target_Pc', max=660.5643308442607, min=-2000.0, s…"
      ]
     },
     "metadata": {},
     "output_type": "display_data"
    },
    {
     "data": {
      "text/plain": [
       "<function __main__.plot_meniscus(target_Pc, meniscus_model=None)>"
      ]
     },
     "execution_count": 7,
     "metadata": {},
     "output_type": "execute_result"
    }
   ],
   "source": [
    "interact(plot_meniscus, target_Pc=(-2000, max_Pc_circle, 1), meniscus_model=fixed(circular_model))"
   ]
  },
  {
   "cell_type": "markdown",
   "metadata": {},
   "source": [
    "Here we can see that the critical entry pressure for the circular profile is positive, even though the intrinsic contact angle is highly non-wetting"
   ]
  },
  {
   "cell_type": "markdown",
   "metadata": {},
   "source": [
    "# Sinusoidal"
   ]
  },
  {
   "cell_type": "markdown",
   "metadata": {},
   "source": [
    "Now we can start to compare the different meniscus models:"
   ]
  },
  {
   "cell_type": "code",
   "execution_count": 8,
   "metadata": {},
   "outputs": [],
   "source": [
    "sinusoidal_model = pm.meniscus.sinusoidal"
   ]
  },
  {
   "cell_type": "code",
   "execution_count": 9,
   "metadata": {},
   "outputs": [
    {
     "data": {
      "text/plain": [
       "<function openpnm.models.physics.meniscus.sinusoidal(target, mode='max', target_Pc=None, num_points=1000.0, r_toroid=5e-06, throat_diameter='throat.diameter', pore_diameter='pore.diameter', touch_length='throat.touch_length', surface_tension='pore.surface_tension', contact_angle='pore.contact_angle')>"
      ]
     },
     "metadata": {},
     "output_type": "display_data"
    }
   ],
   "source": [
    "display(sinusoidal_model)"
   ]
  },
  {
   "cell_type": "code",
   "execution_count": 10,
   "metadata": {},
   "outputs": [],
   "source": [
    "phys.add_model(propname='throat.meniscus',\n",
    "               model=sinusoidal_model,\n",
    "               mode='men',\n",
    "               r_toroid=fiberRad,\n",
    "               target_Pc=1000)"
   ]
  },
  {
   "cell_type": "markdown",
   "metadata": {},
   "source": [
    "The equation for the solid sinusoidal profile is:"
   ]
  },
  {
   "cell_type": "code",
   "execution_count": 11,
   "metadata": {},
   "outputs": [
    {
     "data": {
      "text/latex": [
       "$\\displaystyle - b \\cos{\\left(\\frac{\\pi x}{2 a} \\right)} + b + rt$"
      ],
      "text/plain": [
       "-b*cos(pi*x/(2*a)) + b + rt"
      ]
     },
     "execution_count": 11,
     "metadata": {},
     "output_type": "execute_result"
    }
   ],
   "source": [
    "x, a, b, rt, sigma, theta = syp.symbols('x, a, b, rt, sigma, theta')\n",
    "y = (sym_cos(sym_pi*x/(2*a)))*b\n",
    "r = rt + b-y\n",
    "r"
   ]
  },
  {
   "cell_type": "code",
   "execution_count": 12,
   "metadata": {},
   "outputs": [
    {
     "data": {
      "text/latex": [
       "$\\displaystyle \\frac{\\pi b \\sin{\\left(\\frac{\\pi x}{2 a} \\right)}}{2 a}$"
      ],
      "text/plain": [
       "pi*b*sin(pi*x/(2*a))/(2*a)"
      ]
     },
     "execution_count": 12,
     "metadata": {},
     "output_type": "execute_result"
    }
   ],
   "source": [
    "# Derivative of profile\n",
    "rprime = r.diff(x)\n",
    "rprime"
   ]
  },
  {
   "cell_type": "code",
   "execution_count": 13,
   "metadata": {},
   "outputs": [
    {
     "data": {
      "text/latex": [
       "$\\displaystyle \\operatorname{atan}{\\left(\\frac{\\pi b \\sin{\\left(\\frac{\\pi x}{2 a} \\right)}}{2 a} \\right)}$"
      ],
      "text/plain": [
       "atan(pi*b*sin(pi*x/(2*a))/(2*a))"
      ]
     },
     "execution_count": 13,
     "metadata": {},
     "output_type": "execute_result"
    }
   ],
   "source": [
    "# Filling angle\n",
    "alpha = sym_atan(rprime)\n",
    "alpha"
   ]
  },
  {
   "cell_type": "code",
   "execution_count": 14,
   "metadata": {},
   "outputs": [
    {
     "data": {
      "text/latex": [
       "$\\displaystyle - \\theta - \\operatorname{atan}{\\left(\\frac{\\pi b \\sin{\\left(\\frac{\\pi x}{2 a} \\right)}}{2 a} \\right)} + \\pi$"
      ],
      "text/plain": [
       "-theta - atan(pi*b*sin(pi*x/(2*a))/(2*a)) + pi"
      ]
     },
     "execution_count": 14,
     "metadata": {},
     "output_type": "execute_result"
    }
   ],
   "source": [
    "# angle between y axis, meniscus center and meniscus contact point\n",
    "eta = sym_pi - (theta + alpha)\n",
    "eta"
   ]
  },
  {
   "cell_type": "code",
   "execution_count": 15,
   "metadata": {},
   "outputs": [
    {
     "data": {
      "text/latex": [
       "$\\displaystyle \\theta + \\operatorname{atan}{\\left(\\frac{\\pi b \\sin{\\left(\\frac{\\pi x}{2 a} \\right)}}{2 a} \\right)} - \\frac{\\pi}{2}$"
      ],
      "text/plain": [
       "theta + atan(pi*b*sin(pi*x/(2*a))/(2*a)) - pi/2"
      ]
     },
     "execution_count": 15,
     "metadata": {},
     "output_type": "execute_result"
    }
   ],
   "source": [
    "# angle between x axis, meniscus center and meniscus contact point\n",
    "gamma = sym_pi/2 - eta\n",
    "gamma"
   ]
  },
  {
   "cell_type": "code",
   "execution_count": 16,
   "metadata": {},
   "outputs": [
    {
     "data": {
      "text/latex": [
       "$\\displaystyle - \\frac{- b \\cos{\\left(\\frac{\\pi x}{2 a} \\right)} + b + rt}{\\cos{\\left(\\theta + \\operatorname{atan}{\\left(\\frac{\\pi b \\sin{\\left(\\frac{\\pi x}{2 a} \\right)}}{2 a} \\right)} \\right)}}$"
      ],
      "text/plain": [
       "-(-b*cos(pi*x/(2*a)) + b + rt)/cos(theta + atan(pi*b*sin(pi*x/(2*a))/(2*a)))"
      ]
     },
     "execution_count": 16,
     "metadata": {},
     "output_type": "execute_result"
    }
   ],
   "source": [
    "# Radius of curvature of meniscus\n",
    "rm = r/sym_cos(eta)\n",
    "rm"
   ]
  },
  {
   "cell_type": "code",
   "execution_count": 17,
   "metadata": {},
   "outputs": [
    {
     "data": {
      "text/latex": [
       "$\\displaystyle - \\frac{\\left(- b \\cos{\\left(\\frac{\\pi x}{2 a} \\right)} + b + rt\\right) \\sin{\\left(\\theta + \\operatorname{atan}{\\left(\\frac{\\pi b \\sin{\\left(\\frac{\\pi x}{2 a} \\right)}}{2 a} \\right)} \\right)}}{\\cos{\\left(\\theta + \\operatorname{atan}{\\left(\\frac{\\pi b \\sin{\\left(\\frac{\\pi x}{2 a} \\right)}}{2 a} \\right)} \\right)}}$"
      ],
      "text/plain": [
       "-(-b*cos(pi*x/(2*a)) + b + rt)*sin(theta + atan(pi*b*sin(pi*x/(2*a))/(2*a)))/cos(theta + atan(pi*b*sin(pi*x/(2*a))/(2*a)))"
      ]
     },
     "execution_count": 17,
     "metadata": {},
     "output_type": "execute_result"
    }
   ],
   "source": [
    "# distance along x-axis from center of curvature to meniscus contact point\n",
    "d = rm*sym_sin(eta)\n",
    "d"
   ]
  },
  {
   "cell_type": "code",
   "execution_count": 18,
   "metadata": {},
   "outputs": [
    {
     "data": {
      "text/latex": [
       "$\\displaystyle - \\frac{2 \\sigma \\cos{\\left(\\theta + \\operatorname{atan}{\\left(\\frac{\\pi b \\sin{\\left(\\frac{\\pi x}{2 a} \\right)}}{2 a} \\right)} \\right)}}{- b \\cos{\\left(\\frac{\\pi x}{2 a} \\right)} + b + rt}$"
      ],
      "text/plain": [
       "-2*sigma*cos(theta + atan(pi*b*sin(pi*x/(2*a))/(2*a)))/(-b*cos(pi*x/(2*a)) + b + rt)"
      ]
     },
     "execution_count": 18,
     "metadata": {},
     "output_type": "execute_result"
    }
   ],
   "source": [
    "# Capillary Pressure\n",
    "p = 2*sigma/rm\n",
    "p"
   ]
  },
  {
   "cell_type": "code",
   "execution_count": 19,
   "metadata": {},
   "outputs": [
    {
     "name": "stdout",
     "output_type": "stream",
     "text": [
      "-62.44809550871156\n"
     ]
    }
   ],
   "source": [
    "phys.add_model(propname='throat.max',\n",
    "               model=sinusoidal_model,\n",
    "               mode='max',\n",
    "               r_toroid=fiberRad)\n",
    "phys.add_model(propname='throat.touch',\n",
    "               model=sinusoidal_model,\n",
    "               mode='touch',\n",
    "               r_toroid=fiberRad)\n",
    "max_Pc_sin = phys['throat.max'][0]\n",
    "print(max_Pc_sin)"
   ]
  },
  {
   "cell_type": "code",
   "execution_count": 20,
   "metadata": {},
   "outputs": [
    {
     "data": {
      "application/vnd.jupyter.widget-view+json": {
       "model_id": "08fa89905ab14dcbb748853c699857f6",
       "version_major": 2,
       "version_minor": 0
      },
      "text/plain": [
       "interactive(children=(FloatSlider(value=-1032.0, description='target_Pc', max=-62.44809550871156, min=-2000.0,…"
      ]
     },
     "metadata": {},
     "output_type": "display_data"
    },
    {
     "data": {
      "text/plain": [
       "<function __main__.plot_meniscus(target_Pc, meniscus_model=None)>"
      ]
     },
     "execution_count": 20,
     "metadata": {},
     "output_type": "execute_result"
    }
   ],
   "source": [
    "interact(plot_meniscus, target_Pc=(-2000, max_Pc_sin, 1), meniscus_model=fixed(sinusoidal_model))"
   ]
  },
  {
   "cell_type": "markdown",
   "metadata": {},
   "source": [
    "Now the crtical entry pressure is negative signifying that spontaneous imbibition will occur"
   ]
  },
  {
   "cell_type": "markdown",
   "metadata": {},
   "source": [
    "# General Elliptical"
   ]
  },
  {
   "cell_type": "markdown",
   "metadata": {},
   "source": [
    "Similarly we can define an elliptical profile and use the same method to determine the capillary pressure:"
   ]
  },
  {
   "cell_type": "code",
   "execution_count": 21,
   "metadata": {},
   "outputs": [
    {
     "data": {
      "text/latex": [
       "$\\displaystyle b \\sqrt{1 - \\frac{x^{2}}{a^{2}}}$"
      ],
      "text/plain": [
       "b*sqrt(1 - x**2/a**2)"
      ]
     },
     "execution_count": 21,
     "metadata": {},
     "output_type": "execute_result"
    }
   ],
   "source": [
    "y = sym_sqrt(1 - (x/a)**2)*b\n",
    "y"
   ]
  },
  {
   "cell_type": "markdown",
   "metadata": {},
   "source": [
    "In-fact this is the model that OpenPNM uses for Purcell as well with a = b = fiber radius"
   ]
  },
  {
   "cell_type": "code",
   "execution_count": 22,
   "metadata": {},
   "outputs": [
    {
     "name": "stdout",
     "output_type": "stream",
     "text": [
      "380.67168089638767\n"
     ]
    }
   ],
   "source": [
    "# Scale ellipse in x direction\n",
    "phys['throat.scale_a'] = fiberRad\n",
    "# Scale ellipse in y direction\n",
    "phys['throat.scale_b'] = 3.0*fiberRad\n",
    "elliptical_model = pm.meniscus.general_toroidal\n",
    "phys.add_model(propname='throat.max',\n",
    "               model=elliptical_model,\n",
    "               mode='max')\n",
    "max_Pc_ellipse = phys['throat.max'][0]\n",
    "print(max_Pc_ellipse)"
   ]
  },
  {
   "cell_type": "code",
   "execution_count": 23,
   "metadata": {},
   "outputs": [
    {
     "data": {
      "application/vnd.jupyter.widget-view+json": {
       "model_id": "678061fabcbb4a52b71834ed3ab21a1b",
       "version_major": 2,
       "version_minor": 0
      },
      "text/plain": [
       "interactive(children=(FloatSlider(value=-810.0, description='target_Pc', max=380.67168089638767, min=-2000.0, …"
      ]
     },
     "metadata": {},
     "output_type": "display_data"
    },
    {
     "data": {
      "text/plain": [
       "<function __main__.plot_meniscus(target_Pc, meniscus_model=None)>"
      ]
     },
     "execution_count": 23,
     "metadata": {},
     "output_type": "execute_result"
    }
   ],
   "source": [
    "interact(plot_meniscus, target_Pc=(-2000, max_Pc_ellipse, 1), meniscus_model=fixed(sinusoidal_model))"
   ]
  },
  {
   "cell_type": "markdown",
   "metadata": {},
   "source": [
    "The two scale factors can now be used to determine a wide range of capillary behaviours with one general model."
   ]
  }
 ],
 "metadata": {
  "kernelspec": {
   "display_name": "Python 3",
   "language": "python",
   "name": "python3"
  },
  "language_info": {
   "codemirror_mode": {
    "name": "ipython",
    "version": 3
   },
   "file_extension": ".py",
   "mimetype": "text/x-python",
   "name": "python",
   "nbconvert_exporter": "python",
   "pygments_lexer": "ipython3",
   "version": "3.7.3"
  }
 },
 "nbformat": 4,
 "nbformat_minor": 2
}
