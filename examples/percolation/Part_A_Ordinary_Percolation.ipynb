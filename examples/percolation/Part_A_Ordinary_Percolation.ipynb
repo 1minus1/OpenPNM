{
 "cells": [
  {
   "cell_type": "markdown",
   "metadata": {},
   "source": [
    "# Part A: Ordinary Percolation"
   ]
  },
  {
   "cell_type": "markdown",
   "metadata": {},
   "source": [
    "OpenPNM contains several percolation algorithms which are central to the multiphase models employed by pore networks. The essential idea is to identify pathways for fluid flow through the network using the entry capillary pressure as a threshold for passage between connected pores. The capillary pressure can either be associated to the pores themselves known as ``site percolation`` or the connecting throats known as ``bond percolation`` or a mixture of both. OpenPNM provides several models for calculating the entry pressure for a given pore or throat and it generally depends on the size of the pore or throat and the wettability to a particular phase characterised by the contact angle. If a pathway through the network connects pores into clusters that contain both an inlet and an outlet then it is deemed to be ``percolating``."
   ]
  },
  {
   "cell_type": "markdown",
   "metadata": {},
   "source": [
    "In this example we will demonstrate ``Ordinary Percolation`` which is the fastest and simplest algorithm to run. The number of steps involved in the algorithm is equal to the number of points that are specified in the run method. This can either be an integer, in which case the minimum and maximum capillary entry pressures in the network are used as limits and the integer value is used to create that number of intervals between the limits, or an array of specified pressured can be supplied."
   ]
  },
  {
   "cell_type": "markdown",
   "metadata": {},
   "source": [
    "The algorithm progresses incrementally from low pressure to high. At each step, clusters of connected pores are found with entry pressures below the current threshold and those that are not already invaded and connected to an inlet are set to be invaded at this pressure. Therefore the process is quasistatic and represents the steady state saturation that would be achieved if the inlet pressure were to be held at that threshold."
   ]
  },
  {
   "cell_type": "markdown",
   "metadata": {},
   "source": [
    "First do our imports"
   ]
  },
  {
   "cell_type": "code",
   "execution_count": 1,
   "metadata": {},
   "outputs": [],
   "source": [
    "import openpnm as op\n",
    "import matplotlib.pyplot as plt\n",
    "import numpy as np\n",
    "from ipywidgets import interact, IntSlider\n",
    "%matplotlib inline"
   ]
  },
  {
   "cell_type": "markdown",
   "metadata": {},
   "source": [
    "Create a 2D Cubic network with standard PSD and define the phase as Water and use Standard physics which implements the washburn capillary pressure relation for throat entry pressure."
   ]
  },
  {
   "cell_type": "code",
   "execution_count": 2,
   "metadata": {},
   "outputs": [],
   "source": [
    "N = 100\n",
    "net = op.network.Cubic(shape=[N, N, 1], spacing=2.5e-5)\n",
    "geom = op.geometry.StickAndBall(network=net, pores=net.Ps, throats=net.Ts)\n",
    "water = op.phases.Water(network=net)\n",
    "phys = op.physics.Standard(network=net, phase=water, geometry=geom)"
   ]
  },
  {
   "cell_type": "markdown",
   "metadata": {},
   "source": [
    "We can check the model by looking at the model dict on the phys object"
   ]
  },
  {
   "cell_type": "code",
   "execution_count": 3,
   "metadata": {},
   "outputs": [
    {
     "data": {
      "text/plain": [
       "{'model': <function openpnm.models.physics.capillary_pressure.washburn(target, surface_tension='pore.surface_tension', contact_angle='pore.contact_angle', diameter='throat.diameter')>,\n",
       " 'regen_mode': 'normal',\n",
       " 'surface_tension': 'pore.surface_tension',\n",
       " 'contact_angle': 'pore.contact_angle',\n",
       " 'diameter': 'throat.diameter'}"
      ]
     },
     "execution_count": 3,
     "metadata": {},
     "output_type": "execute_result"
    }
   ],
   "source": [
    "phys.models['throat.entry_pressure']"
   ]
  },
  {
   "cell_type": "markdown",
   "metadata": {},
   "source": [
    "Now set up and run the algorithm choosing the left and right sides of the network for inlets and outlets respectively. Because we did not set up the network with boundary pores with zero volume a little warning is given because the starting saturation for the algorithm is not zero. However, this is fine and because the network is quite large the starting saturation is actually quite close to zero."
   ]
  },
  {
   "cell_type": "code",
   "execution_count": 4,
   "metadata": {},
   "outputs": [
    {
     "name": "stderr",
     "output_type": "stream",
     "text": [
      "================================================================================\n",
      "WARNING    : Inlets have non-zero volume, percolation curve will not start at 0 \n",
      "SOURCE     : openpnm.algorithms.OrdinaryPercolation.get_intrusion_data \n",
      "TIME STAMP : 2020-01-06 11:21:53,714\n"
     ]
    },
    {
     "data": {
      "image/png": "[encoded data removed]",
      "text/plain": [
       "<Figure size 432x288 with 1 Axes>"
      ]
     },
     "metadata": {
      "needs_background": "light"
     },
     "output_type": "display_data"
    }
   ],
   "source": [
    "alg = op.algorithms.OrdinaryPercolation(network=net)\n",
    "alg.setup(phase=water, pore_volume='pore.volume', throat_volume='throat.volume')\n",
    "alg.set_inlets(pores=net.pores('left'))\n",
    "alg.set_outlets(pores=net.pores('right'))\n",
    "alg.run(points=1000)\n",
    "alg.plot_intrusion_curve()\n",
    "plt.show()"
   ]
  },
  {
   "cell_type": "markdown",
   "metadata": {},
   "source": [
    "The algorithm completes very quickly and the invading phase saturation can be plotted versus the applied boundary pressure."
   ]
  },
  {
   "cell_type": "code",
   "execution_count": 5,
   "metadata": {},
   "outputs": [
    {
     "name": "stderr",
     "output_type": "stream",
     "text": [
      "================================================================================\n",
      "WARNING    : Inlets have non-zero volume, percolation curve will not start at 0 \n",
      "SOURCE     : openpnm.algorithms.OrdinaryPercolation.get_intrusion_data \n",
      "TIME STAMP : 2020-01-06 11:21:54,086\n"
     ]
    }
   ],
   "source": [
    "data = alg.get_intrusion_data()\n",
    "mask = np.logical_and(np.asarray(data.Snwp) > 0.0 , np.asarray(data.Snwp) < 1.0)\n",
    "mask = np.argwhere(mask).flatten()\n",
    "pressures = np.asarray(data.Pcap)[mask]"
   ]
  },
  {
   "cell_type": "markdown",
   "metadata": {},
   "source": [
    "As the network is 2D and cubic we can easily plot the invading phase configuration at the different invasion steps"
   ]
  },
  {
   "cell_type": "code",
   "execution_count": 6,
   "metadata": {},
   "outputs": [],
   "source": [
    "def plot_saturation(step):\n",
    "    arg = mask[step]\n",
    "    Pc = np.ceil(data.Pcap[arg])\n",
    "    sat = np.around(data.Snwp[arg], 3)\n",
    "    is_perc = alg.is_percolating(Pc)\n",
    "    pmask = alg['pore.invasion_pressure'] <= Pc\n",
    "    im = pmask.reshape([N, N])\n",
    "    fig, ax = plt.subplots(figsize=[10, 10])\n",
    "    ax.imshow(im, cmap='Blues')\n",
    "    title = ('Capillary Pressure: '+str(Pc)+' Saturation: '+str(sat)+\n",
    "             ' Percolating : '+str(is_perc))\n",
    "    plt.title(title)\n",
    "    plt.show()"
   ]
  },
  {
   "cell_type": "code",
   "execution_count": 7,
   "metadata": {},
   "outputs": [
    {
     "data": {
      "application/vnd.jupyter.widget-view+json": {
       "model_id": "a628108d264349b2abb86ec1ed180e8e",
       "version_major": 2,
       "version_minor": 0
      },
      "text/plain": [
       "interactive(children=(IntSlider(value=189, description='step', max=443), Output()), _dom_classes=('widget-inte…"
      ]
     },
     "metadata": {},
     "output_type": "display_data"
    },
    {
     "data": {
      "text/plain": [
       "<function __main__.plot_saturation(step)>"
      ]
     },
     "execution_count": 7,
     "metadata": {},
     "output_type": "execute_result"
    }
   ],
   "source": [
    "perc_thresh = alg.get_percolation_threshold()\n",
    "thresh_step = np.argwhere(np.asarray(pressures) == perc_thresh)\n",
    "interact(plot_saturation, step=IntSlider(min=0, max=len(mask)-1, step=1, value=thresh_step))"
   ]
  }
 ],
 "metadata": {
  "kernelspec": {
   "display_name": "Python 3",
   "language": "python",
   "name": "python3"
  },
  "language_info": {
   "codemirror_mode": {
    "name": "ipython",
    "version": 3
   },
   "file_extension": ".py",
   "mimetype": "text/x-python",
   "name": "python",
   "nbconvert_exporter": "python",
   "pygments_lexer": "ipython3",
   "version": "3.7.3"
  }
 },
 "nbformat": 4,
 "nbformat_minor": 2
}
