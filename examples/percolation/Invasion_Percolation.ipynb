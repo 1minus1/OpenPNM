{
 "cells": [
  {
   "cell_type": "markdown",
   "metadata": {},
   "source": [
    "# Invasion Percolation"
   ]
  },
  {
   "cell_type": "code",
   "execution_count": 1,
   "metadata": {},
   "outputs": [],
   "source": [
    "import sys\n",
    "import openpnm as op\n",
    "import numpy as np\n",
    "import matplotlib.pyplot as plt\n",
    "try:\n",
    "    import porespy as ps\n",
    "except ModuleNotFoundError:\n",
    "    !{sys.executable} -m pip install porespy\n",
    "    import porespy as ps\n",
    "from ipywidgets import interact, IntSlider\n",
    "from openpnm.topotools import trim\n",
    "%matplotlib inline"
   ]
  },
  {
   "cell_type": "code",
   "execution_count": 2,
   "metadata": {},
   "outputs": [],
   "source": [
    "spacing=2.5e-5\n",
    "net = op.network.Cubic([20, 20, 1], spacing=spacing)\n",
    "geo = op.geometry.StickAndBall(network=net, pores=net.Ps, throats=net.Ts)"
   ]
  },
  {
   "cell_type": "code",
   "execution_count": 3,
   "metadata": {},
   "outputs": [],
   "source": [
    "net.labels()\n",
    "net.num_throats('surface')\n",
    "trim(network=net, throats=net.throats('surface'))\n",
    "h = net.check_network_health()\n",
    "trim(network=net, pores=h['trim_pores'])"
   ]
  },
  {
   "cell_type": "code",
   "execution_count": 4,
   "metadata": {},
   "outputs": [
    {
     "name": "stdout",
     "output_type": "stream",
     "text": [
      "\n",
      "--------------------------------------------\n",
      "| Generating voxel image from pore network |\n",
      "--------------------------------------------\n"
     ]
    },
    {
     "name": "stderr",
     "output_type": "stream",
     "text": [
      "Generating pores  : 100%|██████████████████████████████████████████████████████████| 396/396 [00:00<00:00, 4246.80it/s]\n",
      "Generating throats: 100%|██████████████████████████████████████████████████████████| 684/684 [00:00<00:00, 5805.79it/s]\n"
     ]
    }
   ],
   "source": [
    "im = ps.io.openpnm_to_im(net, max_dim=1000)"
   ]
  },
  {
   "cell_type": "code",
   "execution_count": 5,
   "metadata": {},
   "outputs": [
    {
     "data": {
      "text/plain": [
       "(1000, 1000, 50)"
      ]
     },
     "execution_count": 5,
     "metadata": {},
     "output_type": "execute_result"
    }
   ],
   "source": [
    "im.shape"
   ]
  },
  {
   "cell_type": "code",
   "execution_count": 6,
   "metadata": {},
   "outputs": [
    {
     "data": {
      "image/png": "[encoded data removed]",
      "text/plain": [
       "<Figure size 720x720 with 1 Axes>"
      ]
     },
     "metadata": {
      "needs_background": "light"
     },
     "output_type": "display_data"
    }
   ],
   "source": [
    "fig, ax = plt.subplots(figsize=(10, 10))\n",
    "plt.imshow(im[25:-25, 25:-25, 25].T)\n",
    "crop = im[25:-25, 25:-25, :]"
   ]
  },
  {
   "cell_type": "code",
   "execution_count": null,
   "metadata": {},
   "outputs": [
    {
     "name": "stdout",
     "output_type": "stream",
     "text": [
      "____________________________________________________________\n",
      "Beginning SNOW Algorithm\n",
      "Converting supplied image (im) to boolean\n",
      "Peforming Distance Transform\n",
      "Applying Gaussian blur with sigma = 0.4\n",
      "Initial number of peaks:  1080\n",
      "Peaks after trimming saddle points:  378\n",
      "Peaks after trimming nearby peaks:  378\n"
     ]
    }
   ],
   "source": [
    "snow_out = ps.networks.snow(crop > 0, voxel_size=4e-7)"
   ]
  },
  {
   "cell_type": "code",
   "execution_count": null,
   "metadata": {},
   "outputs": [],
   "source": [
    "snow_out.regions.shape"
   ]
  },
  {
   "cell_type": "code",
   "execution_count": null,
   "metadata": {},
   "outputs": [],
   "source": [
    "fig, ax = plt.subplots(figsize=(10, 10))\n",
    "reg = snow_out.regions.astype(float) - 1\n",
    "reg[reg == -1] = np.nan\n",
    "region_slice = snow_out.regions[:, :, 28] - 1\n",
    "mask = region_slice >= 0\n",
    "plt.imshow(region_slice.T)"
   ]
  },
  {
   "cell_type": "code",
   "execution_count": null,
   "metadata": {},
   "outputs": [],
   "source": [
    "wrk = op.Workspace()\n",
    "wrk.clear()"
   ]
  },
  {
   "cell_type": "code",
   "execution_count": null,
   "metadata": {},
   "outputs": [],
   "source": [
    "net = op.network.GenericNetwork()\n",
    "net.update(snow_out)\n",
    "geo = op.geometry.GenericGeometry(network=net, pores=net.Ps, throats=net.Ts)"
   ]
  },
  {
   "cell_type": "code",
   "execution_count": null,
   "metadata": {},
   "outputs": [],
   "source": [
    "def update_image(data):\n",
    "    data = data.astype(float)\n",
    "    out_im = np.ones(region_slice.shape, dtype=float)*-1\n",
    "    out_im[mask] = data[region_slice[mask]]\n",
    "    out_im[~mask] = np.nan\n",
    "    return out_im"
   ]
  },
  {
   "cell_type": "code",
   "execution_count": null,
   "metadata": {},
   "outputs": [],
   "source": [
    "fig, ax = plt.subplots(figsize=(10, 10))\n",
    "out = update_image(net['pore.diameter'])\n",
    "plt.imshow(out.T)"
   ]
  },
  {
   "cell_type": "code",
   "execution_count": null,
   "metadata": {},
   "outputs": [],
   "source": [
    "water = op.phases.Water(network=net)\n",
    "phys = op.physics.Standard(network=net, geometry=geo, phase=water)"
   ]
  },
  {
   "cell_type": "code",
   "execution_count": null,
   "metadata": {},
   "outputs": [],
   "source": [
    "fig, ax = plt.subplots(figsize=[10, 10])\n",
    "ax.hist(phys['throat.entry_pressure'], bins=10)"
   ]
  },
  {
   "cell_type": "code",
   "execution_count": null,
   "metadata": {},
   "outputs": [],
   "source": [
    "alg_ip = op.algorithms.InvasionPercolation(network=net)\n",
    "alg_ip.setup(phase=water)\n",
    "alg_ip.set_inlets(pores=net.pores('left'))\n",
    "alg_ip.run()\n",
    "fig, ax = plt.subplots(figsize=(10, 10))\n",
    "out = update_image(alg_ip['pore.invasion_sequence'])\n",
    "plt.imshow(out.T)"
   ]
  },
  {
   "cell_type": "code",
   "execution_count": null,
   "metadata": {},
   "outputs": [],
   "source": [
    "def plot_invasion(seq):\n",
    "    data = alg_ip['pore.invasion_sequence'] < seq\n",
    "    fig, ax = plt.subplots(figsize=(10, 10))\n",
    "    out = update_image(data)\n",
    "    plt.imshow(out.T)"
   ]
  },
  {
   "cell_type": "code",
   "execution_count": null,
   "metadata": {},
   "outputs": [],
   "source": [
    "max_seq = alg_ip['pore.invasion_sequence'].max()\n",
    "interact(plot_invasion, seq=IntSlider(min=0, max=max_seq, step=1, value=200))"
   ]
  },
  {
   "cell_type": "code",
   "execution_count": null,
   "metadata": {},
   "outputs": [],
   "source": [
    "fig, ax = plt.subplots(figsize=(10, 10))\n",
    "alg_ip.plot_intrusion_curve(fig)\n",
    "plt.show()"
   ]
  },
  {
   "cell_type": "code",
   "execution_count": null,
   "metadata": {},
   "outputs": [],
   "source": [
    "fig, ax = plt.subplots(figsize=(10, 10))\n",
    "alg_op = op.algorithms.OrdinaryPercolation(network=net, phase=water)\n",
    "alg_op.set_inlets(net.pores('left'))\n",
    "alg_op.setup(pore_volume='pore.volume',\n",
    "             throat_volume='throat.volume')\n",
    "alg_op.run(points=1000)\n",
    "alg_op.plot_intrusion_curve(fig)\n",
    "alg_ip.plot_intrusion_curve(fig)\n",
    "plt.show()"
   ]
  },
  {
   "cell_type": "code",
   "execution_count": null,
   "metadata": {},
   "outputs": [],
   "source": [
    "alg_ip_t = op.algorithms.InvasionPercolation(network=net)\n",
    "alg_ip_t.setup(phase=water)\n",
    "alg_ip_t.set_inlets(pores=net.pores('left'))\n",
    "alg_ip_t.run()\n",
    "alg_ip_t.apply_trapping(outlets=net.pores(['boundary']))\n",
    "fig, ax = plt.subplots(figsize=(10, 10))\n",
    "out = update_image(alg_ip_t['pore.trapped'])\n",
    "plt.imshow(out.T)"
   ]
  },
  {
   "cell_type": "code",
   "execution_count": null,
   "metadata": {},
   "outputs": [],
   "source": [
    "fig, ax = plt.subplots(figsize=(10, 10))\n",
    "alg_ip.plot_intrusion_curve(fig)\n",
    "alg_ip_t.plot_intrusion_curve(fig)\n",
    "plt.show()"
   ]
  }
 ],
 "metadata": {
  "kernelspec": {
   "display_name": "Python 3",
   "language": "python",
   "name": "python3"
  },
  "language_info": {
   "codemirror_mode": {
    "name": "ipython",
    "version": 3
   },
   "file_extension": ".py",
   "mimetype": "text/x-python",
   "name": "python",
   "nbconvert_exporter": "python",
   "pygments_lexer": "ipython3",
   "version": "3.7.3"
  }
 },
 "nbformat": 4,
 "nbformat_minor": 2
}
