{
 "cells": [
  {
   "cell_type": "markdown",
   "metadata": {},
   "source": [
    "BereaCubic"
   ]
  },
  {
   "cell_type": "markdown",
   "metadata": {},
   "source": [
    "\n",
    "BereaCubic This example is reproduction of Ioannidis and Chatiz paper - Network Modelling of Pore Structure and Transport Properties of Porous Media.\n",
    "\n",
    "A traditional Berea Sandstone on a Cubic lattice. Berea Sandstone is one of the standard materials used on geoscience studies due to it's importance in oil reservoir engineering as well as having well defined pore structure.  This class creates a Cubic Network with the appropriate lattice spacing and connectivity, then adds a Geometry object with the necessary pore-scale models and prescribed parameters.\n",
    "\n"
   ]
  },
  {
   "cell_type": "code",
   "execution_count": 7,
   "metadata": {},
   "outputs": [],
   "source": [
    "import openpnm as op\n",
    "import numpy as np\n",
    "import scipy as sp\n",
    "import matplotlib.pyplot as plt"
   ]
  },
  {
   "cell_type": "markdown",
   "metadata": {},
   "source": [
    "OpenPNM V2 includes a ``materials`` module that contains *recipes* for numerous commonly used porous materials.  Because the network topology and geometry are tightly coupled, these recipes return both a ``network`` and a ``geometry``, packaged together in a ``project``.  This is illustrated for ``BereaCubic`` as follows:"
   ]
  },
  {
   "cell_type": "code",
   "execution_count": null,
   "metadata": {},
   "outputs": [],
   "source": [
    "proj = op.materials.BereaCubic(shape=[15, 15, 15])\n",
    "net = proj.network\n",
    "geo = proj[1]"
   ]
  },
  {
   "cell_type": "markdown",
   "metadata": {},
   "source": [
    "Fetch network shape and spacing for use later"
   ]
  },
  {
   "cell_type": "code",
   "execution_count": null,
   "metadata": {},
   "outputs": [],
   "source": [
    "Lx, Ly, Lz = net.spacing\n",
    "Nx, Ny, Nz = net.shape"
   ]
  },
  {
   "cell_type": "markdown",
   "metadata": {},
   "source": [
    "Let's look at the distribution of pore and throat sizes in the system, and compare with those from the original paper:"
   ]
  },
  {
   "cell_type": "code",
   "execution_count": 5,
   "metadata": {},
   "outputs": [
    {
     "data": {
      "image/png": "[encoded data removed]",
      "text/plain": [
       "<Figure size 432x288 with 1 Axes>"
      ]
     },
     "metadata": {
      "needs_background": "light"
     },
     "output_type": "display_data"
    }
   ],
   "source": [
    "fig = plt.hist(x=geo['throat.size']*1e6, bins=25,\n",
    "               weights=geo['throat.volume']*(1e3)**3, edgecolor='k')\n",
    "fig = plt.hist(x=geo['pore.size_z']*1e6, bins=25,\n",
    "               weights=geo['pore.volume']*(1e3)**3, edgecolor='k')"
   ]
  },
  {
   "cell_type": "markdown",
   "metadata": {},
   "source": [
    "Next we'll run some simulations to validate the geometry against results in the source paper.  To do this we start by adding phase object that contain the physical properties of the fluids, and physics objects which will be *generic* classes to start and we'll add the appropriate models later:"
   ]
  },
  {
   "cell_type": "code",
   "execution_count": 9,
   "metadata": {},
   "outputs": [],
   "source": [
    "hg = op.phases.Mercury(network=net)\n",
    "air = op.phases.Air(network=net)\n",
    "water = op.phases.Water(network=net)\n",
    "hg['throat.contact_angle'] = 140\n",
    "hg['throat.surface_tension'] = 0.48\n",
    "water['throat.viscosity'] = 0.0001\n",
    "\n",
    "phys_air = op.physics.GenericPhysics(network=net, phase=air, geometry=geo)\n",
    "phys_hg = op.physics.GenericPhysics(network=net, phase=hg, geometry=geo)\n",
    "phys_water = op.physics.GenericPhysics(network=net, phase=water, geometry=geo)\n"
   ]
  },
  {
   "cell_type": "markdown",
   "metadata": {},
   "source": [
    "First, let's compare mercury intrusion capillary pressure curves.  One key feature of the original paper is that pore and throat bodies are cubes with a specified aspect ratio (i.e. flattened).  This shape affects both transport and capillary properties.  In terms of capillary pressure, the normally used Washburn eqauation ($Pc=-2\\sigma cos(\\theta) / R $) must be modified since the throat opening has two principle radii of curvature.  Thus, the capillary entry pressure is:\n",
    "\n",
    "$$ Pc = -\\sigma cos(\\theta) \\bigg(\\frac{1}{R_1} + \\frac{1}{R_2}\\bigg) $$\n",
    "\n",
    "This equation is implemented in ``openpnm.models.physics.capillary_pressure.washburn_slit``.  It is applied as follows:"
   ]
  },
  {
   "cell_type": "code",
   "execution_count": 11,
   "metadata": {},
   "outputs": [
    {
     "name": "stderr",
     "output_type": "stream",
     "text": [
      "―――――――――――――――――――――――――――――――――――――――――――――――――――――――――――――――――――――――\n",
      "    WARNING: Inlets have non-zero volume, percolation curve will not start at 0 \n",
      "    SOURCE: openpnm.algorithms.OrdinaryPercolation.get_intrusion_data \n",
      "    TIME STAMP: 2019-11-07 15:21:23,133    \n"
     ]
    },
    {
     "data": {
      "image/png": "[encoded data removed]",
      "text/plain": [
       "<Figure size 432x288 with 1 Axes>"
      ]
     },
     "metadata": {
      "needs_background": "light"
     },
     "output_type": "display_data"
    }
   ],
   "source": [
    "mod = op.models.physics.capillary_pressure.washburn_slit\n",
    "phys_hg.add_model(propname='throat.entry_pressure', model=mod)\n",
    "\n",
    "mip = op.algorithms.Porosimetry(network=net)\n",
    "mip.setup(phase=hg)\n",
    "mip.set_inlets(net.pores(['top', 'bottom']))\n",
    "mip.run(points=25)\n",
    "fig = mip.plot_intrusion_curve()"
   ]
  },
  {
   "cell_type": "markdown",
   "metadata": {},
   "source": [
    "Now we can calculate directional permeability of the model. We have modified Hagen Poiseulle equation to calculate throat and pore hydraulic conductances using equations used in Marios paper. The equations are implemented in openpnm.models.physics.hydraulic_conductance.hagen_poiseuille_slit and are implemented as follows:"
   ]
  },
  {
   "cell_type": "code",
   "execution_count": null,
   "metadata": {},
   "outputs": [],
   "source": [
    "mod = op.models.physics.hydraulic_conductance.hagen_poiseuille_slit\n",
    "phys_water.add_model(propname='throat.hydraulic_conductance', model=mod)\n",
    "\n",
    "alg = op.algorithms.StokesFlow(network=net, phase=water)\n",
    "BC1_pores = net.pores('pore.front')\n",
    "alg.set_value_BC(values=202650, pores=BC1_pores)\n",
    "BC2_pores = net.pores('pore.back')\n",
    "alg.set_value_BC(values=101325, pores=BC2_pores)\n",
    "alg.run()\n",
    "Q = alg.rate(pores=net.pores('front'))\n",
    "\n",
    "A = (Ly*Lz)*(Ny*Nz)\n",
    "L = Lx*Nx\n",
    "mu = sp.mean(water['throat.viscosity'])\n",
    "Kxx = Q*mu*L/(A*101325)\n",
    "print(\"The permeability coefficient is:\", Kxx/1e-15, 'mD')"
   ]
  },
  {
   "cell_type": "markdown",
   "metadata": {},
   "source": [
    "Calculating porosity - Network porosity is the ratio of void volume (sum of throat and pore volumes) to the bulk volume and is implemented as follows: "
   ]
  },
  {
   "cell_type": "code",
   "execution_count": null,
   "metadata": {},
   "outputs": [],
   "source": [
    "Vp = geo['pore.volume'][net.Ps]\n",
    "Vt = geo['throat.volume'][net.Ts]\n",
    "Vps = sp.sum(Vp)\n",
    "Vts = sp.sum(Vt)\n",
    "Vt = Vps + Vts\n",
    "Vb = Nx*Ny*Nz*Lx*Ly*Lz\n",
    "e = Vt/Vb\n",
    "print(\"The porosity is:\", e)"
   ]
  },
  {
   "cell_type": "markdown",
   "metadata": {},
   "source": [
    "Calculating Formation Factor - To calculate the Formation Factor we have made electrcal conductance model using a rectangular geometry for throats and square flattened geometry for the pores. For the pores we are using a truncated pyramid shape and average out the areas at the inlet and outlet. The equations are implemented in openpnm.models.physics.electrical_conductance.slit and are implemented as follows:"
   ]
  },
  {
   "cell_type": "code",
   "execution_count": null,
   "metadata": {},
   "outputs": [],
   "source": [
    "mod = op.models.physics.electrical_conductance.slit\n",
    "phys_water.add_model(propname='throat.electrical_conductance', model=mod)\n",
    "\n",
    "Om = op.algorithms.OhmicConduction(network=net, phase=water)\n",
    "BC1_pores = net.pores('pore.front')\n",
    "Om.set_value_BC(values=20, pores=BC1_pores)\n",
    "BC2_pores = net.pores('pore.back')\n",
    "Om.set_value_BC(values=0, pores=BC2_pores)\n",
    "Om.run()\n",
    "I = Om.rate(pores=net.pores('front'))\n",
    "\n",
    "A = (Ly*Lz)*Ny*Nz\n",
    "L = Lx*Nx\n",
    "delta_V = 20\n",
    "Rnet = delta_V*A/(I*L)\n",
    "F = Rnet\n",
    "print(\"The formation factor is:\", F)"
   ]
  }
 ],
 "metadata": {
  "kernelspec": {
   "display_name": "Python 3",
   "language": "python",
   "name": "python3"
  },
  "language_info": {
   "codemirror_mode": {
    "name": "ipython",
    "version": 3
   },
   "file_extension": ".py",
   "mimetype": "text/x-python",
   "name": "python",
   "nbconvert_exporter": "python",
   "pygments_lexer": "ipython3",
   "version": "3.7.3"
  }
 },
 "nbformat": 4,
 "nbformat_minor": 2
}
