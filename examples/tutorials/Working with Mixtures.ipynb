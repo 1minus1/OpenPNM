{
 "cells": [
  {
   "cell_type": "markdown",
   "metadata": {},
   "source": [
    "# Working with Mixtures\n",
    "\n",
    "In version 2.1, OpenPNM introduced a new *Mixture* class, which as the name suggests, combines the properties of several phases into a single mixture.  The most common example would be diffusion of oxygen in air, which is of course a mixture of $O_2$ and $N_2$ (ignoring humidity and other minor gases like $CO_2$).  The basic premise is that you create normal OpenPNM *Phase* object for each of the pure components, then create a *Mixture* object where you specify the composition of each species.  The notebook gives an overview of how this *Mixture* class works."
   ]
  },
  {
   "cell_type": "code",
   "execution_count": 2,
   "metadata": {},
   "outputs": [],
   "source": [
    "import openpnm as op\n"
   ]
  },
  {
   "cell_type": "markdown",
   "metadata": {},
   "source": [
    "Start by defining a simple 2D network (for easier visualization):"
   ]
  },
  {
   "cell_type": "code",
   "execution_count": 31,
   "metadata": {},
   "outputs": [],
   "source": [
    "pn = op.network.Cubic(shape=[4, 4], spacing=0.001)\n",
    "geo = op.geometry.StickAndBall(network=pn, pores=pn.Ps, throats=pn.Ts)\n"
   ]
  },
  {
   "cell_type": "markdown",
   "metadata": {},
   "source": [
    "In principle, you can define the two pure species as ``GenericPhase`` objects, but this leads to problems later since you have to add all the needed physical properties (i.e. molecular weight).  A better option is to use the the pre-defined classes in the OpenPNM.mixture submodule.  Note that this is *not* imported with OpenPNM by default so you must import it explicitly:"
   ]
  },
  {
   "cell_type": "code",
   "execution_count": 32,
   "metadata": {},
   "outputs": [],
   "source": [
    "from openpnm.phases import mixtures\n",
    "O2 = mixtures.species.gases.O2(network=pn, name='oxygen')\n",
    "N2 = mixtures.species.gases.N2(network=pn, name='nitrogen')"
   ]
  },
  {
   "cell_type": "markdown",
   "metadata": {},
   "source": [
    "With the two 'pure' phases defined, we can now create the mixture phase.  "
   ]
  },
  {
   "cell_type": "code",
   "execution_count": 42,
   "metadata": {},
   "outputs": [
    {
     "name": "stderr",
     "output_type": "stream",
     "text": [
      "================================================================================\n",
      "WARNING    : Mixtures are a beta feature and functionality may change in future versions \n",
      "SOURCE     : openpnm.phases.mixtures.GenericMixture.__init__ \n",
      "TIME STAMP : 2020-03-18 00:14:36,702\n",
      "================================================================================\n"
     ]
    }
   ],
   "source": [
    "air = mixtures.GenericMixture(network=pn, components=[N2, O2])\n",
    "air.add_model(propname='pore.molar_density',\n",
    "              model=op.models.phases.molar_density.ideal_gas)"
   ]
  },
  {
   "cell_type": "markdown",
   "metadata": {},
   "source": [
    "Of course, the ``air`` object needs to know the concentration of each species.  The *Mixture* class has a method for setting this.  Note that you only need to specify *N-1* mole fractions and the *N-th* one can be determined."
   ]
  },
  {
   "cell_type": "code",
   "execution_count": 44,
   "metadata": {},
   "outputs": [],
   "source": [
    "air.set_mole_fraction(component=O2, values=0.21)"
   ]
  },
  {
   "cell_type": "markdown",
   "metadata": {},
   "source": [
    "Now we can print the ``air`` object and see how the properties of the mixture are represented:"
   ]
  },
  {
   "cell_type": "code",
   "execution_count": 45,
   "metadata": {},
   "outputs": [
    {
     "name": "stdout",
     "output_type": "stream",
     "text": [
      "――――――――――――――――――――――――――――――――――――――――――――――――――――――――――――――――――――――――――――――\n",
      "openpnm.phases.mixtures.GenericMixture : mix_05\n",
      "――――――――――――――――――――――――――――――――――――――――――――――――――――――――――――――――――――――――――――――\n",
      "#     Properties                                    Valid Values\n",
      "――――――――――――――――――――――――――――――――――――――――――――――――――――――――――――――――――――――――――――――\n",
      "1     pore.molar_density                               16 / 16   \n",
      "2     pore.mole_fraction.all                           16 / 16   \n",
      "3     pore.mole_fraction.nitrogen                      16 / 16   \n",
      "4     pore.mole_fraction.oxygen                        16 / 16   \n",
      "5     pore.pressure                                    16 / 16   \n",
      "6     pore.temperature                                 16 / 16   \n",
      "7     throat.mole_fraction.all                         24 / 24   \n",
      "――――――――――――――――――――――――――――――――――――――――――――――――――――――――――――――――――――――――――――――\n",
      "#     Labels                                        Assigned Locations\n",
      "――――――――――――――――――――――――――――――――――――――――――――――――――――――――――――――――――――――――――――――\n",
      "1     pore.all                                      16        \n",
      "2     throat.all                                    24        \n",
      "――――――――――――――――――――――――――――――――――――――――――――――――――――――――――――――――――――――――――――――\n",
      "Component Phases\n",
      "――――――――――――――――――――――――――――――――――――――――――――――――――――――――――――――――――――――――――――――\n",
      "openpnm.phases.mixtures.species.gases.N2 : nitrogen\n",
      "openpnm.phases.mixtures.species.gases.O2 : oxygen\n",
      "――――――――――――――――――――――――――――――――――――――――――――――――――――――――――――――――――――――――――――――\n"
     ]
    }
   ],
   "source": [
    "print(air)"
   ]
  },
  {
   "cell_type": "markdown",
   "metadata": {},
   "source": [
    "As can be seen above, the ``'pore.mole_fraction'`` property has the pure component name appended to the end so we can tell them apart.  We can also look at the values within each array to confirm they are correct:"
   ]
  },
  {
   "cell_type": "code",
   "execution_count": 46,
   "metadata": {},
   "outputs": [
    {
     "name": "stdout",
     "output_type": "stream",
     "text": [
      "[0.21 0.21 0.21 0.21 0.21 0.21 0.21 0.21 0.21 0.21 0.21 0.21 0.21 0.21\n",
      " 0.21 0.21]\n"
     ]
    }
   ],
   "source": [
    "print(air['pore.mole_fraction.oxygen'])"
   ]
  },
  {
   "cell_type": "code",
   "execution_count": 51,
   "metadata": {},
   "outputs": [
    {
     "name": "stdout",
     "output_type": "stream",
     "text": [
      "[0. 0. 0. 0. 0. 0. 0. 0. 0. 0. 0. 0. 0. 0. 0. 0.]\n"
     ]
    }
   ],
   "source": [
    "print(air['pore.mole_fraction.nitrogen'])"
   ]
  },
  {
   "cell_type": "code",
   "execution_count": 52,
   "metadata": {},
   "outputs": [],
   "source": [
    "air.update_mole_fractions()"
   ]
  },
  {
   "cell_type": "code",
   "execution_count": 53,
   "metadata": {},
   "outputs": [
    {
     "data": {
      "text/plain": [
       "array([40.8945824, 40.8945824, 40.8945824, 40.8945824, 40.8945824,\n",
       "       40.8945824, 40.8945824, 40.8945824, 40.8945824, 40.8945824,\n",
       "       40.8945824, 40.8945824, 40.8945824, 40.8945824, 40.8945824,\n",
       "       40.8945824])"
      ]
     },
     "execution_count": 53,
     "metadata": {},
     "output_type": "execute_result"
    }
   ],
   "source": [
    "air['pore.molar_density']"
   ]
  },
  {
   "cell_type": "code",
   "execution_count": 21,
   "metadata": {},
   "outputs": [
    {
     "name": "stdout",
     "output_type": "stream",
     "text": [
      "[0.79 0.79 0.79 0.79 0.79 0.79 0.79 0.79 0.79 0.79 0.79 0.79 0.79 0.79\n",
      " 0.79 0.79]\n"
     ]
    }
   ],
   "source": [
    "print(air['pore.mole_fraction.nitrogen'])"
   ]
  },
  {
   "cell_type": "code",
   "execution_count": 20,
   "metadata": {},
   "outputs": [],
   "source": [
    "phys = op.physics.GenericPhysics(network=pn, phase=air, geometry=geo)"
   ]
  }
 ],
 "metadata": {
  "kernelspec": {
   "display_name": "Python 3",
   "language": "python",
   "name": "python3"
  },
  "language_info": {
   "codemirror_mode": {
    "name": "ipython",
    "version": 3
   },
   "file_extension": ".py",
   "mimetype": "text/x-python",
   "name": "python",
   "nbconvert_exporter": "python",
   "pygments_lexer": "ipython3",
   "version": "3.7.3"
  }
 },
 "nbformat": 4,
 "nbformat_minor": 2
}
